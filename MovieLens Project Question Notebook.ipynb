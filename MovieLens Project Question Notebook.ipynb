{
 "cells": [
  {
   "cell_type": "markdown",
   "metadata": {},
   "source": [
    "### `Project - MovieLens Data Analysis`\n",
    "\n",
    "The GroupLens Research Project is a research group in the Department of Computer Science and Engineering at the University of Minnesota. The data is widely used for collaborative filtering and other filtering solutions. However, we will be using this data to act as a means to demonstrate our skill in using Python to “play” with data.\n",
    "\n",
    "### `Objective:`\n",
    "- To implement the techniques learnt as a part of the course.\n",
    "\n",
    "### `Datasets Information:`\n",
    "\n",
    "*rating.csv:* It contains information on ratings given by the users to a particular movie.\n",
    "- user id: id assigned to every user\n",
    "- movie id: id assigned to every movie\n",
    "- rating: rating given by the user\n",
    "- timestamp: Time recorded when the user gave a rating\n",
    "\n",
    "*movie.csv:* File contains information related to the movies and their genre.\n",
    "- movie id: id assigned to every movie\n",
    "- movie title: Title of the movie\n",
    "- release date: Date of release of the movie\n",
    "- Action: Genre containing binary values (1 - for action 0 - not action)\n",
    "- Adventure: Genre containing binary values (1 - for adventure 0 - not adventure)\n",
    "- Animation: Genre containing binary values (1 - for animation 0 - not animation)\n",
    "- Children’s: Genre containing binary values (1 - for children's 0 - not children's)\n",
    "- Comedy: Genre containing binary values (1 - for comedy 0 - not comedy)\n",
    "- Crime: Genre containing binary values (1 - for crime 0 - not crime)\n",
    "- Documentary: Genre containing binary values (1 - for documentary 0 - not documentary)\n",
    "- Drama: Genre containing binary values (1 - for drama 0 - not drama)\n",
    "- Fantasy: Genre containing binary values (1 - for fantasy 0 - not fantasy)\n",
    "- Film-Noir: Genre containing binary values (1 - for film-noir 0 - not film-noir)\n",
    "- Horror: Genre containing binary values (1 - for horror 0 - not horror)\n",
    "- Musical: Genre containing binary values (1 - for musical 0 - not musical)\n",
    "- Mystery: Genre containing binary values (1 - for mystery 0 - not mystery)\n",
    "- Romance: Genre containing binary values (1 - for romance 0 - not romance)\n",
    "- Sci-Fi: Genre containing binary values (1 - for sci-fi 0 - not sci-fi)\n",
    "- Thriller: Genre containing binary values (1 - for thriller 0 - not thriller)\n",
    "- War: Genre containing binary values (1 - for war 0 - not war)\n",
    "- Western: Genre containing binary values (1 - for western - not western)\n",
    "\n",
    "\n",
    "*user.csv:* It contains information of the users who have rated the movies.\n",
    "- user id: id assigned to every user\n",
    "- age: Age of the user\n",
    "- gender: Gender of the user\n",
    "- occupation: Occupation of the user\n",
    "- zip code: Zip code of the use\n",
    "\n",
    "**`Please provide your insights wherever necessary.`**\n",
    "\n",
    "### `Learning Outcomes:`\n",
    "- Exploratory Data Analysis\n",
    "\n",
    "- Visualization using Python\n",
    "\n",
    "- Pandas – groupby, merging \n",
    "\n",
    "\n",
    "### `Domain` \n",
    "- Internet and Entertainment\n",
    "\n",
    "**Note that the project will need you to apply the concepts of groupby and merging extensively.**"
   ]
  },
  {
   "cell_type": "markdown",
   "metadata": {},
   "source": [
    "### 1. Import the necessary packages - 2.5 marks"
   ]
  },
  {
   "cell_type": "code",
   "execution_count": 382,
   "metadata": {},
   "outputs": [
    {
     "data": {
      "text/plain": [
       "'D:\\\\PGP_AIML\\\\Assignment_1'"
      ]
     },
     "execution_count": 382,
     "metadata": {},
     "output_type": "execute_result"
    }
   ],
   "source": [
    "import pandas as pd\n",
    "import numpy as np\n",
    "import matplotlib.pyplot as plt\n",
    "import os\n",
    "import datetime\n",
    "pd.set_option(\"display.max_rows\", 999)\n",
    "%matplotlib inline\n",
    "import seaborn as sns\n",
    "#display the directory in which this notebook is executing\n",
    "os.getcwd()"
   ]
  },
  {
   "cell_type": "markdown",
   "metadata": {},
   "source": [
    "### 2. Read the 3 datasets into dataframes - 2.5 marks"
   ]
  },
  {
   "cell_type": "markdown",
   "metadata": {},
   "source": [
    "#### Note: I invoked jupyter notebook from where the files are stored for this assignment. I wanted to make sure the directory from where jupyter notebook is invoked is where the assignment files are stored."
   ]
  },
  {
   "cell_type": "code",
   "execution_count": 383,
   "metadata": {
    "scrolled": true
   },
   "outputs": [],
   "source": [
    "#creating a function with an argument to input file name\n",
    "def read_file(pth):\n",
    "    df = pd.read_csv(pth)\n",
    "    return df\n",
    "\n",
    "ratings = read_file('data.csv')\n",
    "\n",
    "movie = read_file('item.csv')\n",
    "\n",
    "user = read_file('user.csv')\n",
    "#renaming columns by removing space\n",
    "movie.columns = ['movieid','movietitle','releasedate','unknown','Action','Adventure','Animation','Childrens','Comedy','Crime','Documentary','Drama','Fantasy','Film-Noir','Horror','Musical','Mystery','Romance','Sci-Fi','Thriller','War','Western']\n",
    "ratings.columns = ['userid','movieid','rating','timestamp']\n",
    "user.columns = ['userid','age','gender','occupation','zipcode']\n"
   ]
  },
  {
   "cell_type": "markdown",
   "metadata": {},
   "source": [
    "### 3. Apply info, shape, describe, and find the number of missing values in the data. Present at least 3 observations from these operations - 2.5 marks\n",
    " - Note that you will need to do it for all the three datasets seperately"
   ]
  },
  {
   "cell_type": "code",
   "execution_count": 384,
   "metadata": {},
   "outputs": [
    {
     "name": "stdout",
     "output_type": "stream",
     "text": [
      "==== Applying Shape ===== \n",
      "\n",
      "ratings: (100000, 4) \n",
      " movie: (1681, 22) \n",
      " user: (943, 5)\n"
     ]
    }
   ],
   "source": [
    "print(\"==== Applying Shape ===== \\n\")\n",
    "print(\"ratings:\",ratings.shape, \"\\n movie:\",movie.shape, \"\\n user:\", user.shape)"
   ]
  },
  {
   "cell_type": "code",
   "execution_count": 385,
   "metadata": {},
   "outputs": [
    {
     "name": "stdout",
     "output_type": "stream",
     "text": [
      "==== Applying Info ===== \n",
      "\n",
      "<class 'pandas.core.frame.DataFrame'>\n",
      "RangeIndex: 100000 entries, 0 to 99999\n",
      "Data columns (total 4 columns):\n",
      " #   Column     Non-Null Count   Dtype\n",
      "---  ------     --------------   -----\n",
      " 0   userid     100000 non-null  int64\n",
      " 1   movieid    100000 non-null  int64\n",
      " 2   rating     100000 non-null  int64\n",
      " 3   timestamp  100000 non-null  int64\n",
      "dtypes: int64(4)\n",
      "memory usage: 3.1 MB\n",
      "<class 'pandas.core.frame.DataFrame'>\n",
      "RangeIndex: 1681 entries, 0 to 1680\n",
      "Data columns (total 22 columns):\n",
      " #   Column       Non-Null Count  Dtype \n",
      "---  ------       --------------  ----- \n",
      " 0   movieid      1681 non-null   int64 \n",
      " 1   movietitle   1681 non-null   object\n",
      " 2   releasedate  1681 non-null   object\n",
      " 3   unknown      1681 non-null   int64 \n",
      " 4   Action       1681 non-null   int64 \n",
      " 5   Adventure    1681 non-null   int64 \n",
      " 6   Animation    1681 non-null   int64 \n",
      " 7   Childrens    1681 non-null   int64 \n",
      " 8   Comedy       1681 non-null   int64 \n",
      " 9   Crime        1681 non-null   int64 \n",
      " 10  Documentary  1681 non-null   int64 \n",
      " 11  Drama        1681 non-null   int64 \n",
      " 12  Fantasy      1681 non-null   int64 \n",
      " 13  Film-Noir    1681 non-null   int64 \n",
      " 14  Horror       1681 non-null   int64 \n",
      " 15  Musical      1681 non-null   int64 \n",
      " 16  Mystery      1681 non-null   int64 \n",
      " 17  Romance      1681 non-null   int64 \n",
      " 18  Sci-Fi       1681 non-null   int64 \n",
      " 19  Thriller     1681 non-null   int64 \n",
      " 20  War          1681 non-null   int64 \n",
      " 21  Western      1681 non-null   int64 \n",
      "dtypes: int64(20), object(2)\n",
      "memory usage: 289.0+ KB\n",
      "<class 'pandas.core.frame.DataFrame'>\n",
      "RangeIndex: 943 entries, 0 to 942\n",
      "Data columns (total 5 columns):\n",
      " #   Column      Non-Null Count  Dtype \n",
      "---  ------      --------------  ----- \n",
      " 0   userid      943 non-null    int64 \n",
      " 1   age         943 non-null    int64 \n",
      " 2   gender      943 non-null    object\n",
      " 3   occupation  943 non-null    object\n",
      " 4   zipcode     943 non-null    object\n",
      "dtypes: int64(2), object(3)\n",
      "memory usage: 37.0+ KB\n",
      "ratings: None \n",
      " movie: None \n",
      " user: None\n"
     ]
    }
   ],
   "source": [
    "print(\"==== Applying Info ===== \\n\")\n",
    "print(\"ratings:\",ratings.info(), \"\\n movie:\",movie.info(), \"\\n user:\", user.info())"
   ]
  },
  {
   "cell_type": "code",
   "execution_count": 386,
   "metadata": {},
   "outputs": [
    {
     "name": "stdout",
     "output_type": "stream",
     "text": [
      "==== Applying Describe ===== \n",
      "\n",
      "\n",
      "ratings:              userid        movieid         rating     timestamp\n",
      "count  100000.00000  100000.000000  100000.000000  1.000000e+05\n",
      "mean      462.48475     425.530130       3.529860  8.835289e+08\n",
      "std       266.61442     330.798356       1.125674  5.343856e+06\n",
      "min         1.00000       1.000000       1.000000  8.747247e+08\n",
      "25%       254.00000     175.000000       3.000000  8.794487e+08\n",
      "50%       447.00000     322.000000       4.000000  8.828269e+08\n",
      "75%       682.00000     631.000000       4.000000  8.882600e+08\n",
      "max       943.00000    1682.000000       5.000000  8.932866e+08 \n",
      " \n",
      " movie:            movieid      unknown       Action    Adventure    Animation  \\\n",
      "count  1681.000000  1681.000000  1681.000000  1681.000000  1681.000000   \n",
      "mean    841.841761     0.000595     0.149316     0.080309     0.024985   \n",
      "std     485.638077     0.024390     0.356506     0.271852     0.156126   \n",
      "min       1.000000     0.000000     0.000000     0.000000     0.000000   \n",
      "25%     422.000000     0.000000     0.000000     0.000000     0.000000   \n",
      "50%     842.000000     0.000000     0.000000     0.000000     0.000000   \n",
      "75%    1262.000000     0.000000     0.000000     0.000000     0.000000   \n",
      "max    1682.000000     1.000000     1.000000     1.000000     1.000000   \n",
      "\n",
      "         Childrens       Comedy        Crime  Documentary        Drama  \\\n",
      "count  1681.000000  1681.000000  1681.000000  1681.000000  1681.000000   \n",
      "mean      0.072576     0.300416     0.064842     0.029744     0.431291   \n",
      "std       0.259516     0.458576     0.246321     0.169931     0.495404   \n",
      "min       0.000000     0.000000     0.000000     0.000000     0.000000   \n",
      "25%       0.000000     0.000000     0.000000     0.000000     0.000000   \n",
      "50%       0.000000     0.000000     0.000000     0.000000     0.000000   \n",
      "75%       0.000000     1.000000     0.000000     0.000000     1.000000   \n",
      "max       1.000000     1.000000     1.000000     1.000000     1.000000   \n",
      "\n",
      "           Fantasy    Film-Noir       Horror      Musical      Mystery  \\\n",
      "count  1681.000000  1681.000000  1681.000000  1681.000000  1681.000000   \n",
      "mean      0.013087     0.014277     0.054729     0.033314     0.036288   \n",
      "std       0.113683     0.118667     0.227519     0.179507     0.187061   \n",
      "min       0.000000     0.000000     0.000000     0.000000     0.000000   \n",
      "25%       0.000000     0.000000     0.000000     0.000000     0.000000   \n",
      "50%       0.000000     0.000000     0.000000     0.000000     0.000000   \n",
      "75%       0.000000     0.000000     0.000000     0.000000     0.000000   \n",
      "max       1.000000     1.000000     1.000000     1.000000     1.000000   \n",
      "\n",
      "           Romance       Sci-Fi     Thriller          War      Western  \n",
      "count  1681.000000  1681.000000  1681.000000  1681.000000  1681.000000  \n",
      "mean      0.146936     0.060083     0.149316     0.042237     0.016062  \n",
      "std       0.354148     0.237712     0.356506     0.201189     0.125751  \n",
      "min       0.000000     0.000000     0.000000     0.000000     0.000000  \n",
      "25%       0.000000     0.000000     0.000000     0.000000     0.000000  \n",
      "50%       0.000000     0.000000     0.000000     0.000000     0.000000  \n",
      "75%       0.000000     0.000000     0.000000     0.000000     0.000000  \n",
      "max       1.000000     1.000000     1.000000     1.000000     1.000000   \n",
      " \n",
      " user:            userid         age\n",
      "count  943.000000  943.000000\n",
      "mean   472.000000   34.051962\n",
      "std    272.364951   12.192740\n",
      "min      1.000000    7.000000\n",
      "25%    236.500000   25.000000\n",
      "50%    472.000000   31.000000\n",
      "75%    707.500000   43.000000\n",
      "max    943.000000   73.000000\n",
      "==== ========= ===== \n",
      "\n"
     ]
    }
   ],
   "source": [
    "print(\"==== Applying Describe ===== \\n\")\n",
    "print(\"\\nratings:\",ratings.describe(), \"\\n \\n movie:\",movie.describe(), \"\\n \\n user:\", user.describe())\n",
    "print(\"==== ========= ===== \\n\")"
   ]
  },
  {
   "cell_type": "markdown",
   "metadata": {},
   "source": [
    "### Missing Values"
   ]
  },
  {
   "cell_type": "code",
   "execution_count": 387,
   "metadata": {},
   "outputs": [
    {
     "name": "stdout",
     "output_type": "stream",
     "text": [
      "======== Finding number of missing values ==============\n",
      "\n",
      "\n",
      " ====Missing value analysis for Ratings===:\n",
      " userid       0\n",
      "movieid      0\n",
      "rating       0\n",
      "timestamp    0\n",
      "dtype: int64\n",
      "\n",
      "================================\n",
      "\n",
      "\n",
      "\n",
      " ====Missing value analysis for Movie:======\n",
      " movieid        0\n",
      "movietitle     0\n",
      "releasedate    0\n",
      "unknown        0\n",
      "Action         0\n",
      "Adventure      0\n",
      "Animation      0\n",
      "Childrens      0\n",
      "Comedy         0\n",
      "Crime          0\n",
      "Documentary    0\n",
      "Drama          0\n",
      "Fantasy        0\n",
      "Film-Noir      0\n",
      "Horror         0\n",
      "Musical        0\n",
      "Mystery        0\n",
      "Romance        0\n",
      "Sci-Fi         0\n",
      "Thriller       0\n",
      "War            0\n",
      "Western        0\n",
      "dtype: int64\n",
      "\n",
      "================================\n",
      "\n",
      "\n",
      "\n",
      " ====Missing value analysis for user:======\n",
      " userid        0\n",
      "age           0\n",
      "gender        0\n",
      "occupation    0\n",
      "zipcode       0\n",
      "dtype: int64\n"
     ]
    }
   ],
   "source": [
    "print(\"======== Finding number of missing values ==============\")\n",
    "print(\"\\n\\n ====Missing value analysis for Ratings===:\\n\",ratings.isnull().sum())\n",
    "print(\"\\n================================\\n\")\n",
    "print(\"\\n\\n ====Missing value analysis for Movie:======\\n\",movie.isnull().sum())\n",
    "print(\"\\n================================\\n\")\n",
    "print(\"\\n\\n ====Missing value analysis for user:======\\n\",user.isnull().sum())"
   ]
  },
  {
   "cell_type": "markdown",
   "metadata": {},
   "source": [
    "**Observations:**\n",
    "1. Ratings dataset has 100K observations and 4 variables. Movie dataset has 1681 observations and 22 variables. User dataset has 943 observations and 5 variables. No missing values found\n",
    "2.Average ratings is 3.52 and standard deviation is around 1.12. 25% of observations has less than 3 movie rating.\n",
    "3.Average age of the user is around 34.05 years and maximum age of user is 73 years.\n",
    "\n"
   ]
  },
  {
   "cell_type": "markdown",
   "metadata": {},
   "source": [
    "### 4. Find the number of movies per genre using the item data - 2.5 marks"
   ]
  },
  {
   "cell_type": "code",
   "execution_count": 388,
   "metadata": {
    "scrolled": false
   },
   "outputs": [
    {
     "name": "stdout",
     "output_type": "stream",
     "text": [
      "Number of movies in Genre: unknown :\t\t\t\t==> 1\n",
      "Number of movies in Genre: Action :\t\t\t\t==> 251\n",
      "Number of movies in Genre: Adventure :\t\t\t\t==> 135\n",
      "Number of movies in Genre: Animation :\t\t\t\t==> 42\n",
      "Number of movies in Genre: Childrens :\t\t\t\t==> 122\n",
      "Number of movies in Genre: Comedy :\t\t\t\t==> 505\n",
      "Number of movies in Genre: Crime :\t\t\t\t==> 109\n",
      "Number of movies in Genre: Documentary :\t\t\t\t==> 50\n",
      "Number of movies in Genre: Drama :\t\t\t\t==> 725\n",
      "Number of movies in Genre: Fantasy :\t\t\t\t==> 22\n",
      "Number of movies in Genre: Film-Noir :\t\t\t\t==> 24\n",
      "Number of movies in Genre: Horror :\t\t\t\t==> 92\n",
      "Number of movies in Genre: Musical :\t\t\t\t==> 56\n",
      "Number of movies in Genre: Mystery :\t\t\t\t==> 61\n",
      "Number of movies in Genre: Romance :\t\t\t\t==> 247\n",
      "Number of movies in Genre: Sci-Fi :\t\t\t\t==> 101\n",
      "Number of movies in Genre: Thriller :\t\t\t\t==> 251\n",
      "Number of movies in Genre: War :\t\t\t\t==> 71\n",
      "Number of movies in Genre: Western :\t\t\t\t==> 27\n"
     ]
    }
   ],
   "source": [
    "def num_movies(genre):\n",
    "    cnt = movie.apply(lambda x: True if x[genre] ==1 else False, axis =1)\n",
    "    num_movies = len(cnt[cnt == True].index) \n",
    "    return num_movies\n",
    "  \n",
    "g = ['unknown','Action','Adventure','Animation','Childrens','Comedy','Crime',\n",
    "     'Documentary','Drama','Fantasy','Film-Noir','Horror','Musical',\n",
    "     'Mystery','Romance','Sci-Fi','Thriller','War','Western']\n",
    "for i in g:\n",
    "    print('Number of movies in Genre:',i,':\\t\\t\\t\\t==>',num_movies(i))"
   ]
  },
  {
   "cell_type": "markdown",
   "metadata": {},
   "source": [
    "**Insights:**\n",
    "I created a lambda function on movie dataframe by counting only 1's inside a function for axis=1. \n",
    "Then I created a list g with all genres and calling the function  within a loop. \n",
    "\n",
    "Among the 18 genres, Drama(725) seems to have more movies followed by Comedy (505).\n",
    "Fantasy genre (22) followed by Film-Noir genere (24) has least number of movies."
   ]
  },
  {
   "cell_type": "markdown",
   "metadata": {},
   "source": [
    "### 5. Drop the movie where the genre is unknown - 2.5 marks"
   ]
  },
  {
   "cell_type": "code",
   "execution_count": 389,
   "metadata": {},
   "outputs": [
    {
     "name": "stdout",
     "output_type": "stream",
     "text": [
      "Number of movies in Genre: :\t\t\t\t==> 0\n"
     ]
    }
   ],
   "source": [
    "indx = movie[movie['unknown'] ==1].index\n",
    "movie.drop(indx,inplace = True)\n",
    "movie.shape\n",
    "print('Number of movies in Genre:',':\\t\\t\\t\\t==>',num_movies('unknown'))"
   ]
  },
  {
   "cell_type": "markdown",
   "metadata": {},
   "source": [
    "**Insights:**\n",
    "I am creating a variable to hold genre is unknown (=1). Once the variable is created, I am passing that to the drop statement. To confirm that the drop worked, I am calling the function that is created in previous steps (num_movies) to count the number of movies that have unknown genre ==1. Result is 0 which confirms the record that had unknown genre is dropped."
   ]
  },
  {
   "cell_type": "markdown",
   "metadata": {},
   "source": [
    "### 6. Find the movies that have more than one genre - 5 marks\n",
    "\n",
    "hint: use sum on the axis = 1\n",
    "\n",
    "Display movie name, number of genres for the movie in dataframe\n",
    "\n",
    "and also print(total number of movies which have more than one genres)"
   ]
  },
  {
   "cell_type": "code",
   "execution_count": 390,
   "metadata": {},
   "outputs": [
    {
     "name": "stdout",
     "output_type": "stream",
     "text": [
      "                               movietitle  number_of_genre\n",
      "0                              Toy Story                 3\n",
      "1                              GoldenEye                 3\n",
      "2                             Four Rooms                 1\n",
      "3                             Get Shorty                 3\n",
      "4                                Copycat                 3\n",
      "...                                   ...              ...\n",
      "1676                          Mat' i syn                 1\n",
      "1677                           B. Monkey                 2\n",
      "1678                       Sliding Doors                 2\n",
      "1679                        You So Crazy                 1\n",
      "1680  Scream of Stone (Schrei aus Stein)                 1\n",
      "\n",
      "[1680 rows x 2 columns]\n",
      "\n",
      "\n",
      " Number of Movies that have more than 1 genre: 849\n"
     ]
    }
   ],
   "source": [
    "#creating a list to pass all the column names from movie dataframe\n",
    "col_list= list(movie)\n",
    "#removing columns that are not needed to sum\n",
    "unwanted = ['movieid','movietitle','releasedate', 'unknown']\n",
    "col_list= [x for x in col_list if x not in unwanted]\n",
    "\n",
    "#initializing more_than_one_genre colum so that if I run this cell multiple times it doesnt keep adding up\n",
    "movie[\"number_of_genre\"]=\"\" \n",
    "movie['number_of_genre'] = movie[col_list].sum(axis=1)\n",
    "#selecting only the columns needed to create a new dataframe per instruction\n",
    "sel_cols = movie[['movietitle','number_of_genre']]\n",
    "#creating a new dataframe with only movietitle and number_of_genre columns.\n",
    "movie_new_df = sel_cols.copy()\n",
    "#printing moview_new_df dataframe\n",
    "print(movie_new_df)\n",
    "#to count the number of movies that have more than 1 genre and assigning to x\n",
    "x = len(movie_new_df[movie_new_df.number_of_genre >1])\n",
    "print('\\n\\n Number of Movies that have more than 1 genre:',x)\n"
   ]
  },
  {
   "cell_type": "markdown",
   "metadata": {},
   "source": [
    "**Insights:**\n",
    "There are 849 movies that have more than 1 genre\n"
   ]
  },
  {
   "cell_type": "markdown",
   "metadata": {},
   "source": [
    "### 7. Univariate plots of columns: 'rating', 'Age', 'release year', 'Gender' and 'Occupation' - 10 marks\n",
    "\n",
    "*HINT: Use distplot for age and countplot for release year, ratings, *\n",
    "\n",
    "*HINT: Please refer to the below snippet to understand how to get to release year from release date. You can use str.split() as depicted below or you could convert it to pandas datetime format and extract year (.dt.year)*"
   ]
  },
  {
   "cell_type": "code",
   "execution_count": 391,
   "metadata": {},
   "outputs": [
    {
     "data": {
      "text/plain": [
       "<seaborn.axisgrid.FacetGrid at 0x169af1b9cd0>"
      ]
     },
     "execution_count": 391,
     "metadata": {},
     "output_type": "execute_result"
    },
    {
     "data": {
      "image/png": "[encoded data removed]",
      "text/plain": [
       "<Figure size 432x288 with 1 Axes>"
      ]
     },
     "metadata": {
      "needs_background": "light"
     },
     "output_type": "display_data"
    },
    {
     "data": {
      "image/png": "[encoded data removed]",
      "text/plain": [
       "<Figure size 360x360 with 1 Axes>"
      ]
     },
     "metadata": {
      "needs_background": "light"
     },
     "output_type": "display_data"
    }
   ],
   "source": [
    "#your code here\n",
    "movie['releaseyear'] = pd.DatetimeIndex(movie['releasedate']).year\n",
    "sns.countplot(x=\"releaseyear\", data=movie)\n",
    "sns.displot(movie, x=\"releaseyear\", binwidth=3) #Included this statement since x axis in countplot was all overlapped"
   ]
  },
  {
   "cell_type": "code",
   "execution_count": 392,
   "metadata": {},
   "outputs": [
    {
     "data": {
      "text/plain": [
       "<AxesSubplot:xlabel='rating', ylabel='count'>"
      ]
     },
     "execution_count": 392,
     "metadata": {},
     "output_type": "execute_result"
    },
    {
     "data": {
      "image/png": "[encoded data removed]",
      "text/plain": [
       "<Figure size 432x288 with 1 Axes>"
      ]
     },
     "metadata": {
      "needs_background": "light"
     },
     "output_type": "display_data"
    }
   ],
   "source": [
    "sns.countplot(x=\"rating\", data=ratings)"
   ]
  },
  {
   "cell_type": "code",
   "execution_count": 393,
   "metadata": {},
   "outputs": [
    {
     "data": {
      "text/plain": [
       "<seaborn.axisgrid.FacetGrid at 0x169af3824c0>"
      ]
     },
     "execution_count": 393,
     "metadata": {},
     "output_type": "execute_result"
    },
    {
     "data": {
      "image/png": "[encoded data removed]",
      "text/plain": [
       "<Figure size 360x360 with 1 Axes>"
      ]
     },
     "metadata": {
      "needs_background": "light"
     },
     "output_type": "display_data"
    }
   ],
   "source": [
    "sns.displot(user, x=\"age\")"
   ]
  },
  {
   "cell_type": "code",
   "execution_count": 394,
   "metadata": {},
   "outputs": [
    {
     "data": {
      "text/plain": [
       "<seaborn.axisgrid.FacetGrid at 0x169af382850>"
      ]
     },
     "execution_count": 394,
     "metadata": {},
     "output_type": "execute_result"
    },
    {
     "data": {
      "image/png": "[encoded data removed]",
      "text/plain": [
       "<Figure size 360x360 with 1 Axes>"
      ]
     },
     "metadata": {
      "needs_background": "light"
     },
     "output_type": "display_data"
    }
   ],
   "source": [
    "sns.displot(user, x=\"gender\")"
   ]
  },
  {
   "cell_type": "code",
   "execution_count": 395,
   "metadata": {},
   "outputs": [
    {
     "data": {
      "text/plain": [
       "<seaborn.axisgrid.FacetGrid at 0x169b0a0bdc0>"
      ]
     },
     "execution_count": 395,
     "metadata": {},
     "output_type": "execute_result"
    },
    {
     "data": {
      "image/png": "[encoded data removed]",
      "text/plain": [
       "<Figure size 360x360 with 1 Axes>"
      ]
     },
     "metadata": {
      "needs_background": "light"
     },
     "output_type": "display_data"
    }
   ],
   "source": [
    "sns.displot(user, x=\"occupation\")"
   ]
  },
  {
   "cell_type": "markdown",
   "metadata": {},
   "source": [
    "### 8. Visualize how popularity of genres has changed over the years - 10 marks\n",
    "\n",
    "Note that you need to use the **percent of number of releases in a year** as a parameter of popularity of a genre\n",
    "\n",
    "Hint 1: You need to reach to a data frame where the release year is the index and the genre is the column names (one cell shows the number of release in a year in one genre) or vice versa. (Drop unnecessary column if there are any)\n",
    "\n",
    "Hint 2: Find the total number of movies release in a year(use item dataset to get count of movies released in a particular year, store that value in a new column as 'total'). Now divide the value of each genre in that year by total to get percentage number of release in a particular year.\n",
    "`(df.div(df['total'], axis= 0) * 100)`\n",
    "\n",
    "Once that is achieved, you can either use univariate plots or can use the heatmap to visualise all the changes over the years \n",
    "in one go. \n",
    "\n",
    "Hint 3: Use groupby on the relevant column and use sum() on the same to find out the number of releases in a year/genre."
   ]
  },
  {
   "cell_type": "code",
   "execution_count": 397,
   "metadata": {
    "scrolled": false
   },
   "outputs": [
    {
     "data": {
      "image/png": "[encoded data removed]",
      "text/plain": [
       "<Figure size 1224x1440 with 2 Axes>"
      ]
     },
     "metadata": {
      "needs_background": "light"
     },
     "output_type": "display_data"
    }
   ],
   "source": [
    "df = movie.groupby('releaseyear').sum()\n",
    "df['total_movies_release_per_year'] = movie.groupby('releaseyear').agg({'movieid':'count'})\n",
    "df['pct_action'] = df['Action']/df['total_movies_release_per_year']*100\n",
    "df['pct_Adventure'] = df['Adventure']/df['total_movies_release_per_year']*100\n",
    "df['pct_Animation'] = df['Animation']/df['total_movies_release_per_year']*100\n",
    "df['pct_Childrens'] = df['Childrens']/df['total_movies_release_per_year']*100\n",
    "df['pct_Comedy'] = df['Comedy']/df['total_movies_release_per_year']*100\n",
    "df['pct_Crime'] = df['Crime']/df['total_movies_release_per_year']*100\n",
    "df['pct_Documentary'] = df['Documentary']/df['total_movies_release_per_year']*100\n",
    "df['pct_Drama'] = df['Drama']/df['total_movies_release_per_year']*100\n",
    "df['pct_Fantasy'] = df['Fantasy']/df['total_movies_release_per_year']*100\n",
    "df['pct_Film-Noir'] = df['Film-Noir']/df['total_movies_release_per_year']*100\n",
    "df['pct_Horror'] = df['Horror']/df['total_movies_release_per_year']*100\n",
    "df['pct_Musical'] = df['Musical']/df['total_movies_release_per_year']*100\n",
    "df['pct_Mystery'] = df['Mystery']/df['total_movies_release_per_year']*100\n",
    "df['pct_Romance'] = df['Romance']/df['total_movies_release_per_year']*100\n",
    "df['pct_Sci-Fi'] = df['Sci-Fi']/df['total_movies_release_per_year']*100\n",
    "df['pct_Thriller'] = df['Thriller']/df['total_movies_release_per_year']*100\n",
    "df['pct_War'] = df['War']/df['total_movies_release_per_year']*100\n",
    "df['pct_Western'] = df['Western']/df['total_movies_release_per_year']*100\n",
    "\n",
    "df.drop(['movieid','unknown',\n",
    "         'Action',  'Adventure',\n",
    "         'Animation', 'Childrens',\n",
    "         'Comedy', 'Crime',\n",
    "         'Documentary', 'Drama',\n",
    "         'Fantasy', 'Film-Noir',\n",
    "         'Horror', 'Musical',\n",
    "         'Mystery', 'Romance',\n",
    "         'Sci-Fi', 'Thriller',\n",
    "         'War', 'Western',\n",
    "         'number_of_genre'\n",
    "        ], axis=1, inplace=True)\n",
    "df\n",
    "#heatmap\n",
    "plt.figure(figsize=(17,20))  #setting the figure size\n",
    "sns.heatmap(df, cmap='magma_r')  #heat map to plot the above table\n",
    "plt.show()\n",
    "#"
   ]
  },
  {
   "cell_type": "markdown",
   "metadata": {},
   "source": [
    "**Insights:**\n",
    "Action movies started around 1966 and from 1990 onwards percentage of action movie genre has reduced.\n",
    "Overall Drama has maintained its dominance consistently among other genres since 1926.\n"
   ]
  },
  {
   "cell_type": "markdown",
   "metadata": {},
   "source": [
    "### 9. Find the top 25 movies in terms of average ratings for movies that have been rated more than 100 times - 10 marks\n",
    "\n",
    "Hints : \n",
    "\n",
    "1. Find the count of ratings and average ratings for every movie.\n",
    "2. Slice the movies which have ratings more than 100.\n",
    "3. Sort values according to average rating such that movie which highest rating is on top.\n",
    "4. Select top 25 movies.\n",
    "5. You will have to use the .merge() function to get the movie titles.\n",
    "\n",
    "Note: This question will need you to research about groupby and apply your findings. You can find more on groupby on https://realpython.com/pandas-groupby/."
   ]
  },
  {
   "cell_type": "code",
   "execution_count": 398,
   "metadata": {},
   "outputs": [
    {
     "data": {
      "text/html": [
       "<div>\n",
       "<style scoped>\n",
       "    .dataframe tbody tr th:only-of-type {\n",
       "        vertical-align: middle;\n",
       "    }\n",
       "\n",
       "    .dataframe tbody tr th {\n",
       "        vertical-align: top;\n",
       "    }\n",
       "\n",
       "    .dataframe thead th {\n",
       "        text-align: right;\n",
       "    }\n",
       "</style>\n",
       "<table border=\"1\" class=\"dataframe\">\n",
       "  <thead>\n",
       "    <tr style=\"text-align: right;\">\n",
       "      <th></th>\n",
       "      <th>movieid</th>\n",
       "      <th>movietitle</th>\n",
       "      <th>avg_rating</th>\n",
       "    </tr>\n",
       "  </thead>\n",
       "  <tbody>\n",
       "    <tr>\n",
       "      <th>0</th>\n",
       "      <td>408</td>\n",
       "      <td>Close Shave, A</td>\n",
       "      <td>4.491071</td>\n",
       "    </tr>\n",
       "    <tr>\n",
       "      <th>1</th>\n",
       "      <td>318</td>\n",
       "      <td>Schindler's List</td>\n",
       "      <td>4.466443</td>\n",
       "    </tr>\n",
       "    <tr>\n",
       "      <th>2</th>\n",
       "      <td>169</td>\n",
       "      <td>Wrong Trousers, The</td>\n",
       "      <td>4.466102</td>\n",
       "    </tr>\n",
       "    <tr>\n",
       "      <th>3</th>\n",
       "      <td>483</td>\n",
       "      <td>Casablanca</td>\n",
       "      <td>4.456790</td>\n",
       "    </tr>\n",
       "    <tr>\n",
       "      <th>4</th>\n",
       "      <td>64</td>\n",
       "      <td>Shawshank Redemption, The</td>\n",
       "      <td>4.445230</td>\n",
       "    </tr>\n",
       "    <tr>\n",
       "      <th>5</th>\n",
       "      <td>603</td>\n",
       "      <td>Rear Window</td>\n",
       "      <td>4.387560</td>\n",
       "    </tr>\n",
       "    <tr>\n",
       "      <th>6</th>\n",
       "      <td>12</td>\n",
       "      <td>Usual Suspects, The</td>\n",
       "      <td>4.385768</td>\n",
       "    </tr>\n",
       "    <tr>\n",
       "      <th>7</th>\n",
       "      <td>50</td>\n",
       "      <td>Star Wars</td>\n",
       "      <td>4.358491</td>\n",
       "    </tr>\n",
       "    <tr>\n",
       "      <th>8</th>\n",
       "      <td>178</td>\n",
       "      <td>12 Angry Men</td>\n",
       "      <td>4.344000</td>\n",
       "    </tr>\n",
       "    <tr>\n",
       "      <th>9</th>\n",
       "      <td>134</td>\n",
       "      <td>Citizen Kane</td>\n",
       "      <td>4.292929</td>\n",
       "    </tr>\n",
       "    <tr>\n",
       "      <th>10</th>\n",
       "      <td>427</td>\n",
       "      <td>To Kill a Mockingbird</td>\n",
       "      <td>4.292237</td>\n",
       "    </tr>\n",
       "    <tr>\n",
       "      <th>11</th>\n",
       "      <td>357</td>\n",
       "      <td>One Flew Over the Cuckoo's Nest</td>\n",
       "      <td>4.291667</td>\n",
       "    </tr>\n",
       "    <tr>\n",
       "      <th>12</th>\n",
       "      <td>98</td>\n",
       "      <td>Silence of the Lambs, The</td>\n",
       "      <td>4.289744</td>\n",
       "    </tr>\n",
       "    <tr>\n",
       "      <th>13</th>\n",
       "      <td>480</td>\n",
       "      <td>North by Northwest</td>\n",
       "      <td>4.284916</td>\n",
       "    </tr>\n",
       "    <tr>\n",
       "      <th>14</th>\n",
       "      <td>127</td>\n",
       "      <td>Godfather, The</td>\n",
       "      <td>4.283293</td>\n",
       "    </tr>\n",
       "    <tr>\n",
       "      <th>15</th>\n",
       "      <td>285</td>\n",
       "      <td>Secrets &amp; Lies</td>\n",
       "      <td>4.265432</td>\n",
       "    </tr>\n",
       "    <tr>\n",
       "      <th>16</th>\n",
       "      <td>272</td>\n",
       "      <td>Good Will Hunting</td>\n",
       "      <td>4.262626</td>\n",
       "    </tr>\n",
       "    <tr>\n",
       "      <th>17</th>\n",
       "      <td>657</td>\n",
       "      <td>Manchurian Candidate, The</td>\n",
       "      <td>4.259542</td>\n",
       "    </tr>\n",
       "    <tr>\n",
       "      <th>18</th>\n",
       "      <td>474</td>\n",
       "      <td>Dr. Strangelove or: How I Learned to Stop Worr...</td>\n",
       "      <td>4.252577</td>\n",
       "    </tr>\n",
       "    <tr>\n",
       "      <th>19</th>\n",
       "      <td>174</td>\n",
       "      <td>Raiders of the Lost Ark</td>\n",
       "      <td>4.252381</td>\n",
       "    </tr>\n",
       "    <tr>\n",
       "      <th>20</th>\n",
       "      <td>479</td>\n",
       "      <td>Vertigo</td>\n",
       "      <td>4.251397</td>\n",
       "    </tr>\n",
       "    <tr>\n",
       "      <th>21</th>\n",
       "      <td>313</td>\n",
       "      <td>Titanic</td>\n",
       "      <td>4.245714</td>\n",
       "    </tr>\n",
       "    <tr>\n",
       "      <th>22</th>\n",
       "      <td>511</td>\n",
       "      <td>Lawrence of Arabia</td>\n",
       "      <td>4.231214</td>\n",
       "    </tr>\n",
       "    <tr>\n",
       "      <th>23</th>\n",
       "      <td>484</td>\n",
       "      <td>Maltese Falcon, The</td>\n",
       "      <td>4.210145</td>\n",
       "    </tr>\n",
       "    <tr>\n",
       "      <th>24</th>\n",
       "      <td>172</td>\n",
       "      <td>Empire Strikes Back, The</td>\n",
       "      <td>4.204360</td>\n",
       "    </tr>\n",
       "  </tbody>\n",
       "</table>\n",
       "</div>"
      ],
      "text/plain": [
       "    movieid                                         movietitle  avg_rating\n",
       "0       408                                    Close Shave, A     4.491071\n",
       "1       318                                  Schindler's List     4.466443\n",
       "2       169                               Wrong Trousers, The     4.466102\n",
       "3       483                                        Casablanca     4.456790\n",
       "4        64                         Shawshank Redemption, The     4.445230\n",
       "5       603                                       Rear Window     4.387560\n",
       "6        12                               Usual Suspects, The     4.385768\n",
       "7        50                                         Star Wars     4.358491\n",
       "8       178                                      12 Angry Men     4.344000\n",
       "9       134                                      Citizen Kane     4.292929\n",
       "10      427                             To Kill a Mockingbird     4.292237\n",
       "11      357                   One Flew Over the Cuckoo's Nest     4.291667\n",
       "12       98                         Silence of the Lambs, The     4.289744\n",
       "13      480                                North by Northwest     4.284916\n",
       "14      127                                    Godfather, The     4.283293\n",
       "15      285                                    Secrets & Lies     4.265432\n",
       "16      272                                 Good Will Hunting     4.262626\n",
       "17      657                         Manchurian Candidate, The     4.259542\n",
       "18      474  Dr. Strangelove or: How I Learned to Stop Worr...    4.252577\n",
       "19      174                           Raiders of the Lost Ark     4.252381\n",
       "20      479                                           Vertigo     4.251397\n",
       "21      313                                           Titanic     4.245714\n",
       "22      511                                Lawrence of Arabia     4.231214\n",
       "23      484                               Maltese Falcon, The     4.210145\n",
       "24      172                          Empire Strikes Back, The     4.204360"
      ]
     },
     "execution_count": 398,
     "metadata": {},
     "output_type": "execute_result"
    }
   ],
   "source": [
    "#your code here\n",
    "#merging movie and ratings dataframe together\n",
    "#dig = pd.merge(ratings[['userid', 'movieid', 'rating']], movie, on='movieid')\n",
    "\n",
    "items = ratings.groupby('movieid').count()\n",
    "\n",
    "items = items[ratings.groupby('movieid').count().userid > 100].index\n",
    "\n",
    "\n",
    "items = ratings.loc[ratings.movieid.isin(items)]\n",
    "\n",
    "\n",
    "items = items.groupby('movieid').mean()\n",
    "\n",
    "\n",
    "items = items.sort_values('rating',ascending = False)\n",
    "\n",
    "order = items.index\n",
    "rating_list = items.rating[0:25]\n",
    "#rating_list\n",
    "#movie.columns\n",
    "items = movie.loc[movie['movieid'].isin(order)]\n",
    "items\n",
    "top_25_movies = items.set_index('movieid').loc[order]\n",
    "\n",
    "top_25_movies = top_25_movies.iloc[0:25, 0]\n",
    "top_25_movies = top_25_movies.reset_index()\n",
    "top_25_movies['avg_rating'] =  rating_list.values\n",
    "top_25_movies\n",
    "#items = movies.loc[movies['movie id'].isin(order)]\n",
    "#ig\n",
    "#dig.to_csv('out.csv', index=False)  \n",
    "#dig.groupby('movieid').agg({'rating':'count'}, {'rating':'average'} )\n",
    "\n",
    "#d1 = dig.groupby('movieid').sum()\n",
    "#d1['count_of_ratings'] = d1.groupby('movieid').agg({'movieid':'count'})\n",
    "\n",
    "#dig.groupby('movie').count()"
   ]
  },
  {
   "cell_type": "markdown",
   "metadata": {},
   "source": [
    "### 10. Check for the validity of the below statements with respect to the data provided - 10 marks\n",
    "\n",
    "* Men watch more drama than women\n",
    "* Women watch more Sci-Fi than men\n",
    "* Men watch more Romance than women\n",
    "\n",
    "**compare the percentages**\n",
    "\n",
    "**Please pay attention to what should be the denominator while calculating percentages**"
   ]
  },
  {
   "cell_type": "markdown",
   "metadata": {},
   "source": [
    "1. Merge all the datasets\n",
    "\n",
    "2. There is no need to conduct statistical tests around this. Just **compare the percentages** and comment on the validity of the above statements.\n",
    "\n",
    "3. you might want ot use the .sum(), .div() function here.\n",
    "\n",
    "4. Use number of ratings to validate the numbers. For example, if out of 4000 ratings received by women, 3000 are for drama, we will assume that 75% of the women watch drama."
   ]
  },
  {
   "cell_type": "code",
   "execution_count": 399,
   "metadata": {},
   "outputs": [
    {
     "data": {
      "text/plain": [
       "Index(['movieid', 'movietitle', 'releasedate', 'unknown', 'Action',\n",
       "       'Adventure', 'Animation', 'Childrens', 'Comedy', 'Crime', 'Documentary',\n",
       "       'Drama', 'Fantasy', 'Film-Noir', 'Horror', 'Musical', 'Mystery',\n",
       "       'Romance', 'Sci-Fi', 'Thriller', 'War', 'Western', 'number_of_genre',\n",
       "       'releaseyear'],\n",
       "      dtype='object')"
      ]
     },
     "execution_count": 399,
     "metadata": {},
     "output_type": "execute_result"
    }
   ],
   "source": [
    "movie.columns"
   ]
  },
  {
   "cell_type": "code",
   "execution_count": 400,
   "metadata": {},
   "outputs": [
    {
     "data": {
      "text/html": [
       "<div>\n",
       "<style scoped>\n",
       "    .dataframe tbody tr th:only-of-type {\n",
       "        vertical-align: middle;\n",
       "    }\n",
       "\n",
       "    .dataframe tbody tr th {\n",
       "        vertical-align: top;\n",
       "    }\n",
       "\n",
       "    .dataframe thead th {\n",
       "        text-align: right;\n",
       "    }\n",
       "</style>\n",
       "<table border=\"1\" class=\"dataframe\">\n",
       "  <thead>\n",
       "    <tr style=\"text-align: right;\">\n",
       "      <th></th>\n",
       "      <th>Action</th>\n",
       "      <th>Adventure</th>\n",
       "      <th>Animation</th>\n",
       "      <th>Childrens</th>\n",
       "      <th>Comedy</th>\n",
       "      <th>Crime</th>\n",
       "      <th>Documentary</th>\n",
       "      <th>Drama</th>\n",
       "      <th>Fantasy</th>\n",
       "      <th>Film-Noir</th>\n",
       "      <th>Horror</th>\n",
       "      <th>Musical</th>\n",
       "      <th>Mystery</th>\n",
       "      <th>Romance</th>\n",
       "      <th>Sci-Fi</th>\n",
       "      <th>Thriller</th>\n",
       "      <th>War</th>\n",
       "      <th>Western</th>\n",
       "      <th>total</th>\n",
       "    </tr>\n",
       "    <tr>\n",
       "      <th>gender</th>\n",
       "      <th></th>\n",
       "      <th></th>\n",
       "      <th></th>\n",
       "      <th></th>\n",
       "      <th></th>\n",
       "      <th></th>\n",
       "      <th></th>\n",
       "      <th></th>\n",
       "      <th></th>\n",
       "      <th></th>\n",
       "      <th></th>\n",
       "      <th></th>\n",
       "      <th></th>\n",
       "      <th></th>\n",
       "      <th></th>\n",
       "      <th></th>\n",
       "      <th></th>\n",
       "      <th></th>\n",
       "      <th></th>\n",
       "    </tr>\n",
       "  </thead>\n",
       "  <tbody>\n",
       "    <tr>\n",
       "      <th>F</th>\n",
       "      <td>5442</td>\n",
       "      <td>3141</td>\n",
       "      <td>995</td>\n",
       "      <td>2232</td>\n",
       "      <td>8068</td>\n",
       "      <td>1794</td>\n",
       "      <td>187</td>\n",
       "      <td>11008</td>\n",
       "      <td>363</td>\n",
       "      <td>385</td>\n",
       "      <td>1197</td>\n",
       "      <td>1442</td>\n",
       "      <td>1314</td>\n",
       "      <td>5858</td>\n",
       "      <td>2629</td>\n",
       "      <td>5086</td>\n",
       "      <td>2189</td>\n",
       "      <td>371</td>\n",
       "      <td>53701</td>\n",
       "    </tr>\n",
       "    <tr>\n",
       "      <th>M</th>\n",
       "      <td>20147</td>\n",
       "      <td>10612</td>\n",
       "      <td>2610</td>\n",
       "      <td>4950</td>\n",
       "      <td>21764</td>\n",
       "      <td>6261</td>\n",
       "      <td>571</td>\n",
       "      <td>28887</td>\n",
       "      <td>989</td>\n",
       "      <td>1348</td>\n",
       "      <td>4120</td>\n",
       "      <td>3512</td>\n",
       "      <td>3931</td>\n",
       "      <td>13603</td>\n",
       "      <td>10101</td>\n",
       "      <td>16786</td>\n",
       "      <td>7209</td>\n",
       "      <td>1483</td>\n",
       "      <td>158884</td>\n",
       "    </tr>\n",
       "  </tbody>\n",
       "</table>\n",
       "</div>"
      ],
      "text/plain": [
       "        Action  Adventure  Animation  Childrens  Comedy  Crime  Documentary  \\\n",
       "gender                                                                        \n",
       "F         5442       3141        995       2232    8068   1794          187   \n",
       "M        20147      10612       2610       4950   21764   6261          571   \n",
       "\n",
       "        Drama  Fantasy  Film-Noir  Horror  Musical  Mystery  Romance  Sci-Fi  \\\n",
       "gender                                                                         \n",
       "F       11008      363        385    1197     1442     1314     5858    2629   \n",
       "M       28887      989       1348    4120     3512     3931    13603   10101   \n",
       "\n",
       "        Thriller   War  Western   total  \n",
       "gender                                   \n",
       "F           5086  2189      371   53701  \n",
       "M          16786  7209     1483  158884  "
      ]
     },
     "execution_count": 400,
     "metadata": {},
     "output_type": "execute_result"
    }
   ],
   "source": [
    "#your code here\n",
    "\n",
    "result = pd.merge(ratings, user, how='inner', on='userid')  \n",
    "result = pd.merge(result, movie, how='inner', on='movieid')  \n",
    "result.head()\n",
    "result.drop(columns = ['userid','rating','movieid','timestamp','releaseyear', 'zipcode','unknown','number_of_genre', 'releasedate','movietitle','occupation','age'], inplace=True)\n",
    "result\n",
    "genre_by_gender = result.groupby('gender').sum().loc[:] \n",
    "genre_by_gender['total'] = genre_by_gender.sum(axis = 1)\n",
    "genre_by_gender"
   ]
  },
  {
   "cell_type": "code",
   "execution_count": 401,
   "metadata": {},
   "outputs": [
    {
     "data": {
      "text/html": [
       "<div>\n",
       "<style scoped>\n",
       "    .dataframe tbody tr th:only-of-type {\n",
       "        vertical-align: middle;\n",
       "    }\n",
       "\n",
       "    .dataframe tbody tr th {\n",
       "        vertical-align: top;\n",
       "    }\n",
       "\n",
       "    .dataframe thead th {\n",
       "        text-align: right;\n",
       "    }\n",
       "</style>\n",
       "<table border=\"1\" class=\"dataframe\">\n",
       "  <thead>\n",
       "    <tr style=\"text-align: right;\">\n",
       "      <th></th>\n",
       "      <th>Drama</th>\n",
       "      <th>Sci-Fi</th>\n",
       "      <th>Romance</th>\n",
       "    </tr>\n",
       "    <tr>\n",
       "      <th>gender</th>\n",
       "      <th></th>\n",
       "      <th></th>\n",
       "      <th></th>\n",
       "    </tr>\n",
       "  </thead>\n",
       "  <tbody>\n",
       "    <tr>\n",
       "      <th>F</th>\n",
       "      <td>20.498687</td>\n",
       "      <td>4.895626</td>\n",
       "      <td>10.908549</td>\n",
       "    </tr>\n",
       "    <tr>\n",
       "      <th>M</th>\n",
       "      <td>18.181189</td>\n",
       "      <td>6.357468</td>\n",
       "      <td>8.561592</td>\n",
       "    </tr>\n",
       "  </tbody>\n",
       "</table>\n",
       "</div>"
      ],
      "text/plain": [
       "            Drama    Sci-Fi    Romance\n",
       "gender                                \n",
       "F       20.498687  4.895626  10.908549\n",
       "M       18.181189  6.357468   8.561592"
      ]
     },
     "execution_count": 401,
     "metadata": {},
     "output_type": "execute_result"
    }
   ],
   "source": [
    "genre_by_gender[['Drama','Sci-Fi','Romance']].div(genre_by_gender.total, axis= 0) * 100"
   ]
  },
  {
   "cell_type": "markdown",
   "metadata": {},
   "source": [
    "**Conclusion:**\n",
    "\n",
    "Men watch more drama than women:\n",
    "<b> From the above pivot, it looks like Women watch a tad more Drama than Men. 20% Women vs 18% Men. </b>\n",
    "\n",
    "    \n",
    "Women watch more Sci-Fi than men:\n",
    "   <b> 6.3% Men watch Sci-Fi and only 4.89% women watch Sci-Fi. Hence Men watch more Sci-Fi than Women </b>\n",
    "\n",
    "       \n",
    "\n",
    "Men watch more Romance than women:   \n",
    "<b> Women watch more Romance than Men. 10.9% Women vs 8.56% Men. Handsdown Women watch more Romance than Men </b>"
   ]
  },
  {
   "cell_type": "code",
   "execution_count": null,
   "metadata": {},
   "outputs": [],
   "source": []
  }
 ],
 "metadata": {
  "kernelspec": {
   "display_name": "Python 3",
   "language": "python",
   "name": "python3"
  },
  "language_info": {
   "codemirror_mode": {
    "name": "ipython",
    "version": 3
   },
   "file_extension": ".py",
   "mimetype": "text/x-python",
   "name": "python",
   "nbconvert_exporter": "python",
   "pygments_lexer": "ipython3",
   "version": "3.8.5"
  }
 },
 "nbformat": 4,
 "nbformat_minor": 2
}
